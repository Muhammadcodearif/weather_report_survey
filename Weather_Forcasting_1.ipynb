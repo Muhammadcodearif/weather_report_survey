{
 "cells": [
  {
   "cell_type": "code",
   "execution_count": 1,
   "id": "70d0bcb3-366d-4de4-ad5b-5337592b1a2b",
   "metadata": {},
   "outputs": [],
   "source": [
    "# All important libraries\n",
    "import pandas as pd \n",
    "import numpy as np\n",
    "import seaborn as sns \n",
    "import matplotlib.pyplot as plt\n",
    "import plotly.express as px \n",
    "# set color palette \n",
    "sns.set_palette(\"Set2\")\n",
    "# ignore warnings \n",
    "import warnings\n",
    "warnings.filterwarnings(\"ignore\")\n"
   ]
  },
  {
   "cell_type": "code",
   "execution_count": 2,
   "id": "5a4f6402-33bf-4aa4-bc2d-9ae51abbfc4c",
   "metadata": {},
   "outputs": [
    {
     "data": {
      "text/html": [
       "<div>\n",
       "<style scoped>\n",
       "    .dataframe tbody tr th:only-of-type {\n",
       "        vertical-align: middle;\n",
       "    }\n",
       "\n",
       "    .dataframe tbody tr th {\n",
       "        vertical-align: top;\n",
       "    }\n",
       "\n",
       "    .dataframe thead th {\n",
       "        text-align: right;\n",
       "    }\n",
       "</style>\n",
       "<table border=\"1\" class=\"dataframe\">\n",
       "  <thead>\n",
       "    <tr style=\"text-align: right;\">\n",
       "      <th></th>\n",
       "      <th>country</th>\n",
       "      <th>location_name</th>\n",
       "      <th>latitude</th>\n",
       "      <th>longitude</th>\n",
       "      <th>timezone</th>\n",
       "      <th>last_updated_epoch</th>\n",
       "      <th>last_updated</th>\n",
       "      <th>temperature_celsius</th>\n",
       "      <th>temperature_fahrenheit</th>\n",
       "      <th>condition_text</th>\n",
       "      <th>...</th>\n",
       "      <th>air_quality_PM2.5</th>\n",
       "      <th>air_quality_PM10</th>\n",
       "      <th>air_quality_us-epa-index</th>\n",
       "      <th>air_quality_gb-defra-index</th>\n",
       "      <th>sunrise</th>\n",
       "      <th>sunset</th>\n",
       "      <th>moonrise</th>\n",
       "      <th>moonset</th>\n",
       "      <th>moon_phase</th>\n",
       "      <th>moon_illumination</th>\n",
       "    </tr>\n",
       "  </thead>\n",
       "  <tbody>\n",
       "    <tr>\n",
       "      <th>0</th>\n",
       "      <td>Afghanistan</td>\n",
       "      <td>Kabul</td>\n",
       "      <td>34.52</td>\n",
       "      <td>69.18</td>\n",
       "      <td>Asia/Kabul</td>\n",
       "      <td>1715849100</td>\n",
       "      <td>2024-05-16 13:15</td>\n",
       "      <td>26.6</td>\n",
       "      <td>79.8</td>\n",
       "      <td>Partly Cloudy</td>\n",
       "      <td>...</td>\n",
       "      <td>8.4</td>\n",
       "      <td>26.6</td>\n",
       "      <td>1</td>\n",
       "      <td>1</td>\n",
       "      <td>04:50 AM</td>\n",
       "      <td>06:50 PM</td>\n",
       "      <td>12:12 PM</td>\n",
       "      <td>01:11 AM</td>\n",
       "      <td>Waxing Gibbous</td>\n",
       "      <td>55</td>\n",
       "    </tr>\n",
       "    <tr>\n",
       "      <th>1</th>\n",
       "      <td>Albania</td>\n",
       "      <td>Tirana</td>\n",
       "      <td>41.33</td>\n",
       "      <td>19.82</td>\n",
       "      <td>Europe/Tirane</td>\n",
       "      <td>1715849100</td>\n",
       "      <td>2024-05-16 10:45</td>\n",
       "      <td>19.0</td>\n",
       "      <td>66.2</td>\n",
       "      <td>Partly cloudy</td>\n",
       "      <td>...</td>\n",
       "      <td>1.1</td>\n",
       "      <td>2.0</td>\n",
       "      <td>1</td>\n",
       "      <td>1</td>\n",
       "      <td>05:21 AM</td>\n",
       "      <td>07:54 PM</td>\n",
       "      <td>12:58 PM</td>\n",
       "      <td>02:14 AM</td>\n",
       "      <td>Waxing Gibbous</td>\n",
       "      <td>55</td>\n",
       "    </tr>\n",
       "    <tr>\n",
       "      <th>2</th>\n",
       "      <td>Algeria</td>\n",
       "      <td>Algiers</td>\n",
       "      <td>36.76</td>\n",
       "      <td>3.05</td>\n",
       "      <td>Africa/Algiers</td>\n",
       "      <td>1715849100</td>\n",
       "      <td>2024-05-16 09:45</td>\n",
       "      <td>23.0</td>\n",
       "      <td>73.4</td>\n",
       "      <td>Sunny</td>\n",
       "      <td>...</td>\n",
       "      <td>10.4</td>\n",
       "      <td>18.4</td>\n",
       "      <td>1</td>\n",
       "      <td>1</td>\n",
       "      <td>05:40 AM</td>\n",
       "      <td>07:50 PM</td>\n",
       "      <td>01:15 PM</td>\n",
       "      <td>02:14 AM</td>\n",
       "      <td>Waxing Gibbous</td>\n",
       "      <td>55</td>\n",
       "    </tr>\n",
       "    <tr>\n",
       "      <th>3</th>\n",
       "      <td>Andorra</td>\n",
       "      <td>Andorra La Vella</td>\n",
       "      <td>42.50</td>\n",
       "      <td>1.52</td>\n",
       "      <td>Europe/Andorra</td>\n",
       "      <td>1715849100</td>\n",
       "      <td>2024-05-16 10:45</td>\n",
       "      <td>6.3</td>\n",
       "      <td>43.3</td>\n",
       "      <td>Light drizzle</td>\n",
       "      <td>...</td>\n",
       "      <td>0.7</td>\n",
       "      <td>0.9</td>\n",
       "      <td>1</td>\n",
       "      <td>1</td>\n",
       "      <td>06:31 AM</td>\n",
       "      <td>09:11 PM</td>\n",
       "      <td>02:12 PM</td>\n",
       "      <td>03:31 AM</td>\n",
       "      <td>Waxing Gibbous</td>\n",
       "      <td>55</td>\n",
       "    </tr>\n",
       "    <tr>\n",
       "      <th>4</th>\n",
       "      <td>Angola</td>\n",
       "      <td>Luanda</td>\n",
       "      <td>-8.84</td>\n",
       "      <td>13.23</td>\n",
       "      <td>Africa/Luanda</td>\n",
       "      <td>1715849100</td>\n",
       "      <td>2024-05-16 09:45</td>\n",
       "      <td>26.0</td>\n",
       "      <td>78.8</td>\n",
       "      <td>Partly cloudy</td>\n",
       "      <td>...</td>\n",
       "      <td>183.4</td>\n",
       "      <td>262.3</td>\n",
       "      <td>5</td>\n",
       "      <td>10</td>\n",
       "      <td>06:12 AM</td>\n",
       "      <td>05:55 PM</td>\n",
       "      <td>01:17 PM</td>\n",
       "      <td>12:38 AM</td>\n",
       "      <td>Waxing Gibbous</td>\n",
       "      <td>55</td>\n",
       "    </tr>\n",
       "  </tbody>\n",
       "</table>\n",
       "<p>5 rows × 41 columns</p>\n",
       "</div>"
      ],
      "text/plain": [
       "       country     location_name  latitude  longitude        timezone  \\\n",
       "0  Afghanistan             Kabul     34.52      69.18      Asia/Kabul   \n",
       "1      Albania            Tirana     41.33      19.82   Europe/Tirane   \n",
       "2      Algeria           Algiers     36.76       3.05  Africa/Algiers   \n",
       "3      Andorra  Andorra La Vella     42.50       1.52  Europe/Andorra   \n",
       "4       Angola            Luanda     -8.84      13.23   Africa/Luanda   \n",
       "\n",
       "   last_updated_epoch      last_updated  temperature_celsius  \\\n",
       "0          1715849100  2024-05-16 13:15                 26.6   \n",
       "1          1715849100  2024-05-16 10:45                 19.0   \n",
       "2          1715849100  2024-05-16 09:45                 23.0   \n",
       "3          1715849100  2024-05-16 10:45                  6.3   \n",
       "4          1715849100  2024-05-16 09:45                 26.0   \n",
       "\n",
       "   temperature_fahrenheit condition_text  ...  air_quality_PM2.5  \\\n",
       "0                    79.8  Partly Cloudy  ...                8.4   \n",
       "1                    66.2  Partly cloudy  ...                1.1   \n",
       "2                    73.4          Sunny  ...               10.4   \n",
       "3                    43.3  Light drizzle  ...                0.7   \n",
       "4                    78.8  Partly cloudy  ...              183.4   \n",
       "\n",
       "   air_quality_PM10  air_quality_us-epa-index air_quality_gb-defra-index  \\\n",
       "0              26.6                         1                          1   \n",
       "1               2.0                         1                          1   \n",
       "2              18.4                         1                          1   \n",
       "3               0.9                         1                          1   \n",
       "4             262.3                         5                         10   \n",
       "\n",
       "    sunrise    sunset  moonrise   moonset      moon_phase  moon_illumination  \n",
       "0  04:50 AM  06:50 PM  12:12 PM  01:11 AM  Waxing Gibbous                 55  \n",
       "1  05:21 AM  07:54 PM  12:58 PM  02:14 AM  Waxing Gibbous                 55  \n",
       "2  05:40 AM  07:50 PM  01:15 PM  02:14 AM  Waxing Gibbous                 55  \n",
       "3  06:31 AM  09:11 PM  02:12 PM  03:31 AM  Waxing Gibbous                 55  \n",
       "4  06:12 AM  05:55 PM  01:17 PM  12:38 AM  Waxing Gibbous                 55  \n",
       "\n",
       "[5 rows x 41 columns]"
      ]
     },
     "execution_count": 2,
     "metadata": {},
     "output_type": "execute_result"
    }
   ],
   "source": [
    "df = pd.read_csv('GlobalWeatherRepository.csv')# Read csv file\n",
    "df.head ()# for first five rows of datasets"
   ]
  },
  {
   "cell_type": "code",
   "execution_count": 3,
   "id": "60104ecd-6d7b-437d-806a-e8862758c6a8",
   "metadata": {},
   "outputs": [
    {
     "data": {
      "text/html": [
       "<div>\n",
       "<style scoped>\n",
       "    .dataframe tbody tr th:only-of-type {\n",
       "        vertical-align: middle;\n",
       "    }\n",
       "\n",
       "    .dataframe tbody tr th {\n",
       "        vertical-align: top;\n",
       "    }\n",
       "\n",
       "    .dataframe thead th {\n",
       "        text-align: right;\n",
       "    }\n",
       "</style>\n",
       "<table border=\"1\" class=\"dataframe\">\n",
       "  <thead>\n",
       "    <tr style=\"text-align: right;\">\n",
       "      <th></th>\n",
       "      <th>latitude</th>\n",
       "      <th>longitude</th>\n",
       "      <th>last_updated_epoch</th>\n",
       "      <th>temperature_celsius</th>\n",
       "      <th>temperature_fahrenheit</th>\n",
       "      <th>wind_mph</th>\n",
       "      <th>wind_kph</th>\n",
       "      <th>wind_degree</th>\n",
       "      <th>pressure_mb</th>\n",
       "      <th>pressure_in</th>\n",
       "      <th>...</th>\n",
       "      <th>gust_kph</th>\n",
       "      <th>air_quality_Carbon_Monoxide</th>\n",
       "      <th>air_quality_Ozone</th>\n",
       "      <th>air_quality_Nitrogen_dioxide</th>\n",
       "      <th>air_quality_Sulphur_dioxide</th>\n",
       "      <th>air_quality_PM2.5</th>\n",
       "      <th>air_quality_PM10</th>\n",
       "      <th>air_quality_us-epa-index</th>\n",
       "      <th>air_quality_gb-defra-index</th>\n",
       "      <th>moon_illumination</th>\n",
       "    </tr>\n",
       "  </thead>\n",
       "  <tbody>\n",
       "    <tr>\n",
       "      <th>count</th>\n",
       "      <td>59243.000000</td>\n",
       "      <td>59243.000000</td>\n",
       "      <td>5.924300e+04</td>\n",
       "      <td>59243.000000</td>\n",
       "      <td>59243.000000</td>\n",
       "      <td>59243.000000</td>\n",
       "      <td>59243.000000</td>\n",
       "      <td>59243.000000</td>\n",
       "      <td>59243.000000</td>\n",
       "      <td>59243.000000</td>\n",
       "      <td>...</td>\n",
       "      <td>59243.000000</td>\n",
       "      <td>59243.000000</td>\n",
       "      <td>59243.000000</td>\n",
       "      <td>59243.000000</td>\n",
       "      <td>59243.000000</td>\n",
       "      <td>59243.000000</td>\n",
       "      <td>59243.000000</td>\n",
       "      <td>59243.000000</td>\n",
       "      <td>59243.000000</td>\n",
       "      <td>59243.000000</td>\n",
       "    </tr>\n",
       "    <tr>\n",
       "      <th>mean</th>\n",
       "      <td>19.136659</td>\n",
       "      <td>22.184817</td>\n",
       "      <td>1.729051e+09</td>\n",
       "      <td>22.196124</td>\n",
       "      <td>71.954628</td>\n",
       "      <td>8.278740</td>\n",
       "      <td>13.327262</td>\n",
       "      <td>169.218068</td>\n",
       "      <td>1014.132269</td>\n",
       "      <td>29.946718</td>\n",
       "      <td>...</td>\n",
       "      <td>19.117813</td>\n",
       "      <td>528.147191</td>\n",
       "      <td>63.481898</td>\n",
       "      <td>15.057822</td>\n",
       "      <td>11.395293</td>\n",
       "      <td>25.420754</td>\n",
       "      <td>51.001988</td>\n",
       "      <td>1.723951</td>\n",
       "      <td>2.701180</td>\n",
       "      <td>49.813986</td>\n",
       "    </tr>\n",
       "    <tr>\n",
       "      <th>std</th>\n",
       "      <td>24.476135</td>\n",
       "      <td>65.813452</td>\n",
       "      <td>7.653680e+06</td>\n",
       "      <td>9.636240</td>\n",
       "      <td>17.345043</td>\n",
       "      <td>9.267897</td>\n",
       "      <td>14.913487</td>\n",
       "      <td>103.693369</td>\n",
       "      <td>13.615288</td>\n",
       "      <td>0.402038</td>\n",
       "      <td>...</td>\n",
       "      <td>16.758359</td>\n",
       "      <td>946.118814</td>\n",
       "      <td>36.306475</td>\n",
       "      <td>26.382499</td>\n",
       "      <td>48.932463</td>\n",
       "      <td>44.728382</td>\n",
       "      <td>157.277658</td>\n",
       "      <td>0.992030</td>\n",
       "      <td>2.591999</td>\n",
       "      <td>35.150908</td>\n",
       "    </tr>\n",
       "    <tr>\n",
       "      <th>min</th>\n",
       "      <td>-41.300000</td>\n",
       "      <td>-175.200000</td>\n",
       "      <td>1.715849e+09</td>\n",
       "      <td>-24.900000</td>\n",
       "      <td>-12.800000</td>\n",
       "      <td>2.200000</td>\n",
       "      <td>3.600000</td>\n",
       "      <td>1.000000</td>\n",
       "      <td>947.000000</td>\n",
       "      <td>27.960000</td>\n",
       "      <td>...</td>\n",
       "      <td>3.600000</td>\n",
       "      <td>-9999.000000</td>\n",
       "      <td>0.000000</td>\n",
       "      <td>0.000000</td>\n",
       "      <td>-9999.000000</td>\n",
       "      <td>0.185000</td>\n",
       "      <td>-1848.150000</td>\n",
       "      <td>1.000000</td>\n",
       "      <td>1.000000</td>\n",
       "      <td>0.000000</td>\n",
       "    </tr>\n",
       "    <tr>\n",
       "      <th>25%</th>\n",
       "      <td>3.750000</td>\n",
       "      <td>-6.836100</td>\n",
       "      <td>1.722514e+09</td>\n",
       "      <td>17.000000</td>\n",
       "      <td>62.600000</td>\n",
       "      <td>4.000000</td>\n",
       "      <td>6.500000</td>\n",
       "      <td>80.000000</td>\n",
       "      <td>1010.000000</td>\n",
       "      <td>29.830000</td>\n",
       "      <td>...</td>\n",
       "      <td>10.800000</td>\n",
       "      <td>227.000000</td>\n",
       "      <td>39.000000</td>\n",
       "      <td>0.925000</td>\n",
       "      <td>0.740000</td>\n",
       "      <td>5.600000</td>\n",
       "      <td>8.700000</td>\n",
       "      <td>1.000000</td>\n",
       "      <td>1.000000</td>\n",
       "      <td>15.000000</td>\n",
       "    </tr>\n",
       "    <tr>\n",
       "      <th>50%</th>\n",
       "      <td>17.250000</td>\n",
       "      <td>23.316700</td>\n",
       "      <td>1.729071e+09</td>\n",
       "      <td>25.000000</td>\n",
       "      <td>77.000000</td>\n",
       "      <td>6.900000</td>\n",
       "      <td>11.200000</td>\n",
       "      <td>160.000000</td>\n",
       "      <td>1013.000000</td>\n",
       "      <td>29.920000</td>\n",
       "      <td>...</td>\n",
       "      <td>16.600000</td>\n",
       "      <td>325.600000</td>\n",
       "      <td>60.100000</td>\n",
       "      <td>3.330000</td>\n",
       "      <td>2.300000</td>\n",
       "      <td>13.505000</td>\n",
       "      <td>20.600000</td>\n",
       "      <td>1.000000</td>\n",
       "      <td>2.000000</td>\n",
       "      <td>50.000000</td>\n",
       "    </tr>\n",
       "    <tr>\n",
       "      <th>75%</th>\n",
       "      <td>40.400000</td>\n",
       "      <td>50.580000</td>\n",
       "      <td>1.735641e+09</td>\n",
       "      <td>28.400000</td>\n",
       "      <td>83.200000</td>\n",
       "      <td>11.400000</td>\n",
       "      <td>18.400000</td>\n",
       "      <td>257.000000</td>\n",
       "      <td>1018.000000</td>\n",
       "      <td>30.050000</td>\n",
       "      <td>...</td>\n",
       "      <td>25.500000</td>\n",
       "      <td>506.900000</td>\n",
       "      <td>83.000000</td>\n",
       "      <td>16.465000</td>\n",
       "      <td>8.880000</td>\n",
       "      <td>29.600000</td>\n",
       "      <td>45.695000</td>\n",
       "      <td>2.000000</td>\n",
       "      <td>3.000000</td>\n",
       "      <td>85.000000</td>\n",
       "    </tr>\n",
       "    <tr>\n",
       "      <th>max</th>\n",
       "      <td>64.150000</td>\n",
       "      <td>179.220000</td>\n",
       "      <td>1.742205e+09</td>\n",
       "      <td>49.200000</td>\n",
       "      <td>120.600000</td>\n",
       "      <td>1841.200000</td>\n",
       "      <td>2963.200000</td>\n",
       "      <td>360.000000</td>\n",
       "      <td>3006.000000</td>\n",
       "      <td>88.770000</td>\n",
       "      <td>...</td>\n",
       "      <td>2970.400000</td>\n",
       "      <td>38879.398000</td>\n",
       "      <td>480.700000</td>\n",
       "      <td>427.700000</td>\n",
       "      <td>521.330000</td>\n",
       "      <td>1614.100000</td>\n",
       "      <td>6037.290000</td>\n",
       "      <td>6.000000</td>\n",
       "      <td>10.000000</td>\n",
       "      <td>100.000000</td>\n",
       "    </tr>\n",
       "  </tbody>\n",
       "</table>\n",
       "<p>8 rows × 30 columns</p>\n",
       "</div>"
      ],
      "text/plain": [
       "           latitude     longitude  last_updated_epoch  temperature_celsius  \\\n",
       "count  59243.000000  59243.000000        5.924300e+04         59243.000000   \n",
       "mean      19.136659     22.184817        1.729051e+09            22.196124   \n",
       "std       24.476135     65.813452        7.653680e+06             9.636240   \n",
       "min      -41.300000   -175.200000        1.715849e+09           -24.900000   \n",
       "25%        3.750000     -6.836100        1.722514e+09            17.000000   \n",
       "50%       17.250000     23.316700        1.729071e+09            25.000000   \n",
       "75%       40.400000     50.580000        1.735641e+09            28.400000   \n",
       "max       64.150000    179.220000        1.742205e+09            49.200000   \n",
       "\n",
       "       temperature_fahrenheit      wind_mph      wind_kph   wind_degree  \\\n",
       "count            59243.000000  59243.000000  59243.000000  59243.000000   \n",
       "mean                71.954628      8.278740     13.327262    169.218068   \n",
       "std                 17.345043      9.267897     14.913487    103.693369   \n",
       "min                -12.800000      2.200000      3.600000      1.000000   \n",
       "25%                 62.600000      4.000000      6.500000     80.000000   \n",
       "50%                 77.000000      6.900000     11.200000    160.000000   \n",
       "75%                 83.200000     11.400000     18.400000    257.000000   \n",
       "max                120.600000   1841.200000   2963.200000    360.000000   \n",
       "\n",
       "        pressure_mb   pressure_in  ...      gust_kph  \\\n",
       "count  59243.000000  59243.000000  ...  59243.000000   \n",
       "mean    1014.132269     29.946718  ...     19.117813   \n",
       "std       13.615288      0.402038  ...     16.758359   \n",
       "min      947.000000     27.960000  ...      3.600000   \n",
       "25%     1010.000000     29.830000  ...     10.800000   \n",
       "50%     1013.000000     29.920000  ...     16.600000   \n",
       "75%     1018.000000     30.050000  ...     25.500000   \n",
       "max     3006.000000     88.770000  ...   2970.400000   \n",
       "\n",
       "       air_quality_Carbon_Monoxide  air_quality_Ozone  \\\n",
       "count                 59243.000000       59243.000000   \n",
       "mean                    528.147191          63.481898   \n",
       "std                     946.118814          36.306475   \n",
       "min                   -9999.000000           0.000000   \n",
       "25%                     227.000000          39.000000   \n",
       "50%                     325.600000          60.100000   \n",
       "75%                     506.900000          83.000000   \n",
       "max                   38879.398000         480.700000   \n",
       "\n",
       "       air_quality_Nitrogen_dioxide  air_quality_Sulphur_dioxide  \\\n",
       "count                  59243.000000                 59243.000000   \n",
       "mean                      15.057822                    11.395293   \n",
       "std                       26.382499                    48.932463   \n",
       "min                        0.000000                 -9999.000000   \n",
       "25%                        0.925000                     0.740000   \n",
       "50%                        3.330000                     2.300000   \n",
       "75%                       16.465000                     8.880000   \n",
       "max                      427.700000                   521.330000   \n",
       "\n",
       "       air_quality_PM2.5  air_quality_PM10  air_quality_us-epa-index  \\\n",
       "count       59243.000000      59243.000000              59243.000000   \n",
       "mean           25.420754         51.001988                  1.723951   \n",
       "std            44.728382        157.277658                  0.992030   \n",
       "min             0.185000      -1848.150000                  1.000000   \n",
       "25%             5.600000          8.700000                  1.000000   \n",
       "50%            13.505000         20.600000                  1.000000   \n",
       "75%            29.600000         45.695000                  2.000000   \n",
       "max          1614.100000       6037.290000                  6.000000   \n",
       "\n",
       "       air_quality_gb-defra-index  moon_illumination  \n",
       "count                59243.000000       59243.000000  \n",
       "mean                     2.701180          49.813986  \n",
       "std                      2.591999          35.150908  \n",
       "min                      1.000000           0.000000  \n",
       "25%                      1.000000          15.000000  \n",
       "50%                      2.000000          50.000000  \n",
       "75%                      3.000000          85.000000  \n",
       "max                     10.000000         100.000000  \n",
       "\n",
       "[8 rows x 30 columns]"
      ]
     },
     "execution_count": 3,
     "metadata": {},
     "output_type": "execute_result"
    }
   ],
   "source": [
    "df.describe()"
   ]
  },
  {
   "cell_type": "code",
   "execution_count": 4,
   "id": "df6b94e9-5e36-49e8-9b2d-f1eec2bf3cef",
   "metadata": {},
   "outputs": [
    {
     "name": "stdout",
     "output_type": "stream",
     "text": [
      "<class 'pandas.core.frame.DataFrame'>\n",
      "RangeIndex: 59243 entries, 0 to 59242\n",
      "Data columns (total 41 columns):\n",
      " #   Column                        Non-Null Count  Dtype  \n",
      "---  ------                        --------------  -----  \n",
      " 0   country                       59243 non-null  object \n",
      " 1   location_name                 59243 non-null  object \n",
      " 2   latitude                      59243 non-null  float64\n",
      " 3   longitude                     59243 non-null  float64\n",
      " 4   timezone                      59243 non-null  object \n",
      " 5   last_updated_epoch            59243 non-null  int64  \n",
      " 6   last_updated                  59243 non-null  object \n",
      " 7   temperature_celsius           59243 non-null  float64\n",
      " 8   temperature_fahrenheit        59243 non-null  float64\n",
      " 9   condition_text                59243 non-null  object \n",
      " 10  wind_mph                      59243 non-null  float64\n",
      " 11  wind_kph                      59243 non-null  float64\n",
      " 12  wind_degree                   59243 non-null  int64  \n",
      " 13  wind_direction                59243 non-null  object \n",
      " 14  pressure_mb                   59243 non-null  float64\n",
      " 15  pressure_in                   59243 non-null  float64\n",
      " 16  precip_mm                     59243 non-null  float64\n",
      " 17  precip_in                     59243 non-null  float64\n",
      " 18  humidity                      59243 non-null  int64  \n",
      " 19  cloud                         59243 non-null  int64  \n",
      " 20  feels_like_celsius            59243 non-null  float64\n",
      " 21  feels_like_fahrenheit         59243 non-null  float64\n",
      " 22  visibility_km                 59243 non-null  float64\n",
      " 23  visibility_miles              59243 non-null  float64\n",
      " 24  uv_index                      59243 non-null  float64\n",
      " 25  gust_mph                      59243 non-null  float64\n",
      " 26  gust_kph                      59243 non-null  float64\n",
      " 27  air_quality_Carbon_Monoxide   59243 non-null  float64\n",
      " 28  air_quality_Ozone             59243 non-null  float64\n",
      " 29  air_quality_Nitrogen_dioxide  59243 non-null  float64\n",
      " 30  air_quality_Sulphur_dioxide   59243 non-null  float64\n",
      " 31  air_quality_PM2.5             59243 non-null  float64\n",
      " 32  air_quality_PM10              59243 non-null  float64\n",
      " 33  air_quality_us-epa-index      59243 non-null  int64  \n",
      " 34  air_quality_gb-defra-index    59243 non-null  int64  \n",
      " 35  sunrise                       59243 non-null  object \n",
      " 36  sunset                        59243 non-null  object \n",
      " 37  moonrise                      59243 non-null  object \n",
      " 38  moonset                       59243 non-null  object \n",
      " 39  moon_phase                    59243 non-null  object \n",
      " 40  moon_illumination             59243 non-null  int64  \n",
      "dtypes: float64(23), int64(7), object(11)\n",
      "memory usage: 18.5+ MB\n",
      "Datasets info :None\n"
     ]
    }
   ],
   "source": [
    "print (f\"Datasets info :{df.info()}\")"
   ]
  },
  {
   "cell_type": "code",
   "execution_count": 5,
   "id": "44e4d586-c989-4cf0-9413-0cb1af94e785",
   "metadata": {},
   "outputs": [
    {
     "data": {
      "text/plain": [
       "(59243, 41)"
      ]
     },
     "execution_count": 5,
     "metadata": {},
     "output_type": "execute_result"
    }
   ],
   "source": [
    "df.shape"
   ]
  },
  {
   "cell_type": "code",
   "execution_count": 6,
   "id": "9125a4ff-4596-476e-a1e2-ebd3b5409a8d",
   "metadata": {},
   "outputs": [
    {
     "name": "stdout",
     "output_type": "stream",
     "text": [
      "Missing values:\n",
      " country                         0\n",
      "location_name                   0\n",
      "latitude                        0\n",
      "longitude                       0\n",
      "timezone                        0\n",
      "last_updated_epoch              0\n",
      "last_updated                    0\n",
      "temperature_celsius             0\n",
      "temperature_fahrenheit          0\n",
      "condition_text                  0\n",
      "wind_mph                        0\n",
      "wind_kph                        0\n",
      "wind_degree                     0\n",
      "wind_direction                  0\n",
      "pressure_mb                     0\n",
      "pressure_in                     0\n",
      "precip_mm                       0\n",
      "precip_in                       0\n",
      "humidity                        0\n",
      "cloud                           0\n",
      "feels_like_celsius              0\n",
      "feels_like_fahrenheit           0\n",
      "visibility_km                   0\n",
      "visibility_miles                0\n",
      "uv_index                        0\n",
      "gust_mph                        0\n",
      "gust_kph                        0\n",
      "air_quality_Carbon_Monoxide     0\n",
      "air_quality_Ozone               0\n",
      "air_quality_Nitrogen_dioxide    0\n",
      "air_quality_Sulphur_dioxide     0\n",
      "air_quality_PM2.5               0\n",
      "air_quality_PM10                0\n",
      "air_quality_us-epa-index        0\n",
      "air_quality_gb-defra-index      0\n",
      "sunrise                         0\n",
      "sunset                          0\n",
      "moonrise                        0\n",
      "moonset                         0\n",
      "moon_phase                      0\n",
      "moon_illumination               0\n",
      "dtype: int64\n"
     ]
    }
   ],
   "source": [
    "# Missing Value for Data cleaning or preprocessing \n",
    "missing_values=df.isnull().sum()\n",
    "print(\"Missing values:\\n\",missing_values)"
   ]
  },
  {
   "cell_type": "code",
   "execution_count": 7,
   "id": "53d16bb7-c59f-4044-bef9-7d4ad2fa172a",
   "metadata": {},
   "outputs": [
    {
     "name": "stdout",
     "output_type": "stream",
     "text": [
      "0\n"
     ]
    }
   ],
   "source": [
    "# checks for duplicates \n",
    "duplicates_count =df.duplicated().sum()\n",
    "print(duplicates_count)"
   ]
  },
  {
   "cell_type": "code",
   "execution_count": 8,
   "id": "ca661d78-61ba-4678-94c3-e96dc452b86e",
   "metadata": {},
   "outputs": [
    {
     "name": "stdout",
     "output_type": "stream",
     "text": [
      "Num Unique countries are: 210\n",
      "There are ['Suriname' 'Sweden' 'Switzerland' 'Syria' 'Tajikistan' 'Tanzania'\n",
      " 'Timor-Leste' 'Tonga' 'Trinidad and Tobago' 'Tunisia' 'Turkmenistan'\n",
      " 'Tuvalu' 'Uganda' 'Ukraine' 'United Arab Emirates' 'United Kingdom'\n",
      " 'United States of America' 'Uruguay' 'Uzbekistan' 'Vanuatu' 'Venezuela'\n",
      " 'Vietnam' 'Yemen' 'Zambia' 'Zimbabwe' 'Colombia'\n",
      " 'USA United States of America' \"Lao People's Democratic Republic\" 'Libya'\n",
      " 'Kosovo' 'Togo' 'Malásia' 'Komoren' 'كولومبيا' 'Estonie' 'Гватемала'\n",
      " 'Inde' 'Letonia' 'Польша' 'Mexique' 'Polônia' 'Marrocos' 'Турция'\n",
      " 'Saint-Vincent-et-les-Grenadines' 'Saudi Arabien' 'Südkorea' 'Bélgica'\n",
      " 'Turkménistan' '火鸡' 'Jemen'] unique values in the country column.\n"
     ]
    }
   ],
   "source": [
    "# Show the last 50 unique values\n",
    "unique_countries=df['country'].nunique()\n",
    "num_unique_countries=df['country'].unique()[-50:]\n",
    "print(f'Num Unique countries are: {unique_countries}')\n",
    "print(f'There are {num_unique_countries} unique values in the country column.')"
   ]
  },
  {
   "cell_type": "code",
   "execution_count": 9,
   "id": "cb1c57a8-7cbf-4719-b14a-3e0e3c2b9c10",
   "metadata": {},
   "outputs": [
    {
     "name": "stdout",
     "output_type": "stream",
     "text": [
      "the country which occurs minimum in the datasets is: Afghanistan\n",
      "the country occurs maximum in the datasets is: 火鸡\n"
     ]
    }
   ],
   "source": [
    "# check for minimum and maximum values of the country column\n",
    "min_country,max_country =df['country'].min(),df['country'].max()\n",
    "print(f\"the country which occurs minimum in the datasets is: {min_country}\")\n",
    "print(f\"the country occurs maximum in the datasets is: {max_country}\")"
   ]
  },
  {
   "cell_type": "code",
   "execution_count": 10,
   "id": "56654ade-af51-4776-baae-ac135445e8ee",
   "metadata": {},
   "outputs": [
    {
     "name": "stdout",
     "output_type": "stream",
     "text": [
      "248\n"
     ]
    }
   ],
   "source": [
    "# show the last 50 unique values values \n",
    "num_unique_location_name=df['location_name'].nunique()\n",
    "print(num_unique_location_name)"
   ]
  },
  {
   "cell_type": "code",
   "execution_count": 11,
   "id": "9ed6cb56-833e-4068-9738-d7582ed928d5",
   "metadata": {},
   "outputs": [
    {
     "name": "stdout",
     "output_type": "stream",
     "text": [
      "the location name which occurs minimum in this dataset is: 'S Gravenjansdijk\n",
      "the location name which occurs maximum in this datasets is:Zagreb\n"
     ]
    }
   ],
   "source": [
    "# lets check minimum and maximum values od the id column\n",
    "min_location_name,max_location_name = df['location_name'].min(),df['location_name'].max()\n",
    "print(f\"the location name which occurs minimum in this dataset is: {min_location_name}\")\n",
    "print(f\"the location name which occurs maximum in this datasets is:{max_location_name}\")"
   ]
  },
  {
   "cell_type": "code",
   "execution_count": 12,
   "id": "1233f4ea-806e-4553-add4-1adf371d1a2e",
   "metadata": {},
   "outputs": [
    {
     "name": "stdout",
     "output_type": "stream",
     "text": [
      "         country     location_name  count\n",
      "0    Afghanistan             Kabul    305\n",
      "1        Albania            Tirana    305\n",
      "2        Algeria           Algiers    304\n",
      "3        Andorra  Andorra La Vella    305\n",
      "4         Angola            Luanda    305\n",
      "..           ...               ...    ...\n",
      "255    Гватемала     New Guatemala      1\n",
      "256       Польша            Beirut      1\n",
      "257       Турция             Yaren      1\n",
      "258     كولومبيا        Costa Rica      1\n",
      "259           火鸡          -Kingdom      1\n",
      "\n",
      "[260 rows x 3 columns]\n",
      "210\n"
     ]
    }
   ],
   "source": [
    "# count unique combination of the country and location and name \n",
    "country_location_count = df.groupby(['country','location_name']).size().reset_index(name='count')\n",
    "print(country_location_count)\n",
    "unique_countries= country_location_count['country'].nunique()\n",
    "print(unique_countries)"
   ]
  },
  {
   "cell_type": "code",
   "execution_count": 13,
   "id": "52b6346f-3b08-4aae-a951-4364c1b3ed97",
   "metadata": {},
   "outputs": [
    {
     "name": "stdout",
     "output_type": "stream",
     "text": [
      "Country and Location with the Highest Temperature in Celsius:\n",
      "country                     Kuwait\n",
      "location_name          Kuwait City\n",
      "temperature_celsius           49.2\n",
      "Name: 6896, dtype: object\n"
     ]
    }
   ],
   "source": [
    "#lets get the country and location with the highest temperature in celsius\n",
    "highest_temp_celsius = df.loc[df['temperature_celsius'].idxmax(),['country','location_name','temperature_celsius']]\n",
    "print(\"Country and Location with the Highest Temperature in Celsius:\")\n",
    "print(highest_temp_celsius)"
   ]
  },
  {
   "cell_type": "code",
   "execution_count": 14,
   "id": "8e964731-0202-43c7-ba0b-28f9755d4596",
   "metadata": {},
   "outputs": [
    {
     "name": "stdout",
     "output_type": "stream",
     "text": [
      "\n",
      "Country and Location with the Highest Temperature in Fahrenheit:\n",
      "country                        Kuwait\n",
      "location_name             Kuwait City\n",
      "temperature_fahrenheit          120.6\n",
      "Name: 6896, dtype: object\n"
     ]
    }
   ],
   "source": [
    "# Lets Get the country and location with the highest temperature in Fahrenheit\n",
    "highest_temp_fahrenheit = df.loc[df['temperature_fahrenheit'].idxmax(), ['country', 'location_name', 'temperature_fahrenheit']]\n",
    "print(\"\\nCountry and Location with the Highest Temperature in Fahrenheit:\")\n",
    "print(highest_temp_fahrenheit)"
   ]
  },
  {
   "cell_type": "code",
   "execution_count": 15,
   "id": "b18f3adb-0f5e-40bf-9f95-d5343b8fabe1",
   "metadata": {},
   "outputs": [
    {
     "name": "stdout",
     "output_type": "stream",
     "text": [
      "\n",
      "Country and Location with the Lowest Temperature in Celsius:\n",
      "country                   Mongolia\n",
      "location_name          Ulaanbaatar\n",
      "temperature_celsius          -24.9\n",
      "Name: 51564, dtype: object\n"
     ]
    }
   ],
   "source": [
    "# Get the country and location with the lowest temperature in Celsius\n",
    "lowest_temp_celsius = df.loc[df['temperature_celsius'].idxmin(), ['country', 'location_name', 'temperature_celsius']]\n",
    "print(\"\\nCountry and Location with the Lowest Temperature in Celsius:\")\n",
    "print(lowest_temp_celsius)"
   ]
  },
  {
   "cell_type": "code",
   "execution_count": 16,
   "id": "186ce631-2369-432f-8060-82c7cfa45959",
   "metadata": {},
   "outputs": [
    {
     "name": "stdout",
     "output_type": "stream",
     "text": [
      "\n",
      "Country and Location with the Lowest Temperature in Fahrenheit:\n",
      "country                      Mongolia\n",
      "location_name             Ulaanbaatar\n",
      "temperature_fahrenheit          -12.8\n",
      "Name: 51564, dtype: object\n"
     ]
    }
   ],
   "source": [
    "# Get the country and location with the lowest temperature in Fahrenheit\n",
    "lowest_temp_fahrenheit = df.loc[df['temperature_fahrenheit'].idxmin(), ['country', 'location_name', 'temperature_fahrenheit']]\n",
    "# Correct print statement to show the lowest temperature\n",
    "print(\"\\nCountry and Location with the Lowest Temperature in Fahrenheit:\")\n",
    "print(lowest_temp_fahrenheit)"
   ]
  },
  {
   "cell_type": "code",
   "execution_count": 17,
   "id": "d500e82b-3357-4d94-9e2d-09f0e6959e00",
   "metadata": {},
   "outputs": [
    {
     "name": "stdout",
     "output_type": "stream",
     "text": [
      "Country and Location with the Highest Latitude:\n",
      "country            Iceland\n",
      "location_name    Reykjavik\n",
      "latitude             64.15\n",
      "Name: 8032, dtype: object\n"
     ]
    }
   ],
   "source": [
    "# Lets Find the country and location with the highest latitude\n",
    "highest_latitude = df.loc[df['latitude'].idxmax(), ['country', 'location_name', 'latitude']]\n",
    "print(\"Country and Location with the Highest Latitude:\")\n",
    "print(highest_latitude)"
   ]
  },
  {
   "cell_type": "code",
   "execution_count": 18,
   "id": "538f8a80-8b6a-497c-a9f3-17f4bf624603",
   "metadata": {},
   "outputs": [
    {
     "name": "stdout",
     "output_type": "stream",
     "text": [
      "\n",
      "Country and Location with the Highest Longitude:\n",
      "country            Tuvalu\n",
      "location_name    Funafuti\n",
      "longitude          179.22\n",
      "Name: 181, dtype: object\n"
     ]
    }
   ],
   "source": [
    "# Lets Find the country and location with the highest longitude\n",
    "highest_longitude = df.loc[df['longitude'].idxmax(), ['country', 'location_name', 'longitude']]\n",
    "print(\"\\nCountry and Location with the Highest Longitude:\")\n",
    "print(highest_longitude)"
   ]
  },
  {
   "cell_type": "code",
   "execution_count": 19,
   "id": "387f7f2e-ac3e-4f65-8540-b735176ac9eb",
   "metadata": {},
   "outputs": [
    {
     "name": "stdout",
     "output_type": "stream",
     "text": [
      "\n",
      "Country and Location with the Lowest Latitude:\n",
      "country          New Zealand\n",
      "location_name     Wellington\n",
      "latitude               -41.3\n",
      "Name: 123, dtype: object\n",
      "\n",
      "Country and Location with the Lowest Longitude:\n",
      "country               Tonga\n",
      "location_name    Nuku`Aloia\n",
      "longitude            -175.2\n",
      "Name: 176, dtype: object\n"
     ]
    }
   ],
   "source": [
    "# Find the country and location with the lowest latitude\n",
    "lowest_latitude = df.loc[df['latitude'].idxmin(), ['country', 'location_name', 'latitude']]\n",
    "print(\"\\nCountry and Location with the Lowest Latitude:\")\n",
    "print(lowest_latitude)\n",
    "# Find the country and location with the lowest longitude\n",
    "lowest_longitude = df.loc[df['longitude'].idxmin(), ['country', 'location_name', 'longitude']]\n",
    "print(\"\\nCountry and Location with the Lowest Longitude:\")\n",
    "print(lowest_longitude)"
   ]
  },
  {
   "cell_type": "code",
   "execution_count": 20,
   "id": "0fac7fb8-c2e7-4834-bbff-c062ab8c1fd3",
   "metadata": {},
   "outputs": [
    {
     "name": "stdout",
     "output_type": "stream",
     "text": [
      "Range of last updated dates: 2024-05-16 01:45:00 to 2025-03-17 22:45:00\n",
      "The Earliest Updated time is:  2024-05-16 01:45:00\n",
      "The Latest Updated time is:  2025-03-17 22:45:00\n"
     ]
    }
   ],
   "source": [
    "# Convert date columns to datetime\n",
    "df['last_updated'] = pd.to_datetime(df['last_updated'], errors='coerce')\n",
    "df['sunrise'] = pd.to_datetime(df['sunrise'], errors='coerce')\n",
    "df['sunset'] = pd.to_datetime(df['sunset'], errors='coerce')\n",
    "df['moonrise'] = pd.to_datetime(df['moonrise'], errors='coerce')\n",
    "df['moonset'] = pd.to_datetime(df['moonset'], errors='coerce')\n",
    "\n",
    "# Display the range of last updated dates\n",
    "print(\"Range of last updated dates:\", df['last_updated'].min(), \"to\", df['last_updated'].max())\n",
    "earliest_update = df['last_updated'].min()\n",
    "latest_update = df['last_updated'].max()\n",
    "print(\"The Earliest Updated time is: \", earliest_update)\n",
    "print(\"The Latest Updated time is: \", latest_update)"
   ]
  },
  {
   "cell_type": "code",
   "execution_count": 21,
   "id": "cb39f9ca-4559-4598-b67c-f9f31b4b45d5",
   "metadata": {},
   "outputs": [
    {
     "name": "stdout",
     "output_type": "stream",
     "text": [
      "Records last updated in 2024: 44469\n"
     ]
    }
   ],
   "source": [
    "# Lets check how many records were last updated in 2023?\n",
    "last_updated_2024_count = df[df['last_updated'].dt.year == 2024].shape[0]\n",
    "print(f\"Records last updated in 2024: {last_updated_2024_count}\")"
   ]
  },
  {
   "cell_type": "code",
   "execution_count": 22,
   "id": "f2456d91-3803-48a9-9e9e-859c90e19a90",
   "metadata": {},
   "outputs": [
    {
     "name": "stdout",
     "output_type": "stream",
     "text": [
      "The Number of Month with highest humidity are:  11\n"
     ]
    }
   ],
   "source": [
    "# Lets get the number of month with highest humidity\n",
    "df['month'] = pd.to_datetime(df['last_updated']).dt.month\n",
    "highest_avg_humidity_month=df.groupby('month')['humidity'].mean().idxmax()\n",
    "print(\"The Number of Month with highest humidity are: \", highest_avg_humidity_month)"
   ]
  },
  {
   "cell_type": "code",
   "execution_count": 23,
   "id": "95e43603-e675-46db-8764-adb18b8dd70a",
   "metadata": {},
   "outputs": [
    {
     "name": "stdout",
     "output_type": "stream",
     "text": [
      "Location with the highest wind speed is: Bujumbura (1841.20 mph)\n"
     ]
    }
   ],
   "source": [
    "# location has the highest recorded wind speed\n",
    "highest_wind_speed_location = df.loc[df['wind_mph'].idxmax(), 'location_name']\n",
    "highest_wind_speed_value = df['wind_mph'].max()\n",
    "print(f\"Location with the highest wind speed is: {highest_wind_speed_location} ({highest_wind_speed_value:.2f} mph)\")"
   ]
  },
  {
   "cell_type": "code",
   "execution_count": 24,
   "id": "fc4fb5f1-50dd-46a5-af97-13b063671c4a",
   "metadata": {},
   "outputs": [
    {
     "name": "stdout",
     "output_type": "stream",
     "text": [
      "Locations with Full Moon: 2231\n"
     ]
    }
   ],
   "source": [
    "# Lets check that how many locations have a moon phase listed as \"Full Moon\"\n",
    "full_moon_count = df[df['moon_phase'] == 'Full Moon'].shape[0]\n",
    "print(f\"Locations with Full Moon: {full_moon_count}\")"
   ]
  },
  {
   "cell_type": "code",
   "execution_count": 25,
   "id": "c6778275-4614-4271-9f9c-7eff21bda5db",
   "metadata": {},
   "outputs": [
    {
     "name": "stdout",
     "output_type": "stream",
     "text": [
      "Number of Month when average temperature is lowest are: 1\n"
     ]
    }
   ],
   "source": [
    "# Lets have a look that at which month has the lowest average temperature\n",
    "lowest_avg_temp_month = df.groupby('month')['temperature_celsius'].mean().idxmin()\n",
    "print(f\"Number of Month when average temperature is lowest are: {lowest_avg_temp_month}\")"
   ]
  },
  {
   "cell_type": "code",
   "execution_count": 26,
   "id": "50644891-427d-4407-ac76-412198e9ff01",
   "metadata": {},
   "outputs": [
    {
     "ename": "SyntaxError",
     "evalue": "incomplete input (4038940082.py, line 13)",
     "output_type": "error",
     "traceback": [
      "\u001b[1;36m  Cell \u001b[1;32mIn[26], line 13\u001b[1;36m\u001b[0m\n\u001b[1;33m    country_count.annotate(f\"{count_value}\",(p.get_x()+p.get_width()/2.,p.get_height()),\u001b[0m\n\u001b[1;37m                                                                                        ^\u001b[0m\n\u001b[1;31mSyntaxError\u001b[0m\u001b[1;31m:\u001b[0m incomplete input\n"
     ]
    }
   ],
   "source": [
    "# count the occurence of each country \n",
    "top_countries =df['country'].value_counts().nlargest(10).index\n",
    "# get top 10 country\n",
    "filtered_df = df[df['country'].isin(top_countries)]\n",
    "\n",
    "# create a count plot for the country column \n",
    "plt.figure (figsize=(12,6))\n",
    "country_counts = sns.countplot(data = filtered_df,x='country',order = top_countries)\n",
    "\n",
    "# add count on top of the bar as container \n",
    "for p in country_counts.patches:\n",
    "    count_value =int(p.get_height())\n",
    "    country_count.annotate(f\"{count_value}\",(p.get_x()+p.get_width()/2.,p.get_height()),"
   ]
  },
  {
   "cell_type": "code",
   "execution_count": null,
   "id": "c38e263a-5d7a-470a-871d-e8e30100818d",
   "metadata": {},
   "outputs": [],
   "source": [
    "# Count the occurrences of each country\n",
    "top_countries = df['country'].value_counts().nlargest(10).index  # Get top 10 countries\n",
    "filtered_df = df[df['country'].isin(top_countries)]  # Filter dataset\n",
    "\n",
    "# Create a count plot for the 'country' column\n",
    "plt.figure(figsize=(12, 6))\n",
    "country_counts = sns.countplot(data=filtered_df, x='country', order=top_countries)\n",
    "\n",
    "# Add counts on top of each bar as a container\n",
    "for p in country_counts.patches:\n",
    "    count_value = int(p.get_height())\n",
    "    country_counts.annotate(f'{count_value}', \n",
    "                            (p.get_x() + p.get_width() / 2., p.get_height()), \n",
    "                            ha='center', va='bottom', fontsize=10, color='black', \n",
    "                            xytext=(0, 5), textcoords='offset points',\n",
    "                            bbox=dict(facecolor='white', edgecolor='black', boxstyle='round,pad=0.5')) \n",
    "\n",
    "# Set titles and labels\n",
    "plt.title('Count of Weather Records by Top Countries', fontsize=16, fontweight='bold')  \n",
    "plt.xlabel('Country', fontsize=14)\n",
    "plt.ylabel('Count', fontsize=14)\n",
    "plt.xticks(rotation=45)\n",
    "plt.tight_layout()\n",
    "\n",
    "# Show the plot\n",
    "plt.show()"
   ]
  },
  {
   "cell_type": "code",
   "execution_count": null,
   "id": "8ec0dad0-f7ce-4ed2-980f-5845591d8baf",
   "metadata": {},
   "outputs": [],
   "source": [
    "# List of categorical columns to plot\n",
    "categorical_columns = ['moon_phase', 'condition_text', 'wind_direction', 'country']\n",
    "\n",
    "# Set up the subplot grid\n",
    "fig, axes = plt.subplots(2, 2, figsize=(14, 10))  # Adjust rows, cols depending on the number of plots\n",
    "axes = axes.flatten()  # Flattening for easy iteration\n",
    "\n",
    "# Lets Get Set2 colors for the pie charts\n",
    "pastel_colors = sns.color_palette(\"Set2\", n_colors=6)\n",
    "\n",
    "# Loop through each categorical column\n",
    "for i, col in enumerate(categorical_columns):\n",
    "    # Get the top 6 values\n",
    "    top_6_values = df[col].value_counts().nlargest(6)\n",
    "    \n",
    "    # Plot pie chart for each\n",
    "    top_6_values.plot(kind='pie', autopct='%1.1f%%', ax=axes[i], startangle=90, colors=pastel_colors)\n",
    "    \n",
    "    # Set title and label\n",
    "    axes[i].set_title(f\"{col}\", fontweight='bold')\n",
    "    axes[i].set_ylabel('') \n",
    "    axes[i].axis('equal')  \n",
    "\n",
    "# Adjust layout\n",
    "plt.tight_layout()\n",
    "plt.show()"
   ]
  },
  {
   "cell_type": "code",
   "execution_count": null,
   "id": "534d40f4-a72d-4845-bd6a-94d6be41c2e8",
   "metadata": {},
   "outputs": [],
   "source": [
    "# Sample 20 random locations from each country\n",
    "sampled_df = df.groupby('country').apply(lambda x: x.sample(min(len(x), 20))).reset_index(drop=True)\n",
    "\n",
    "# Create a geo map to visualize the locations\n",
    "fig = px.choropleth(\n",
    "    sampled_df,\n",
    "    locations='country',  \n",
    "    locationmode='country names',  \n",
    "    color='temperature_celsius', \n",
    "    hover_name='location_name',  # Hover information\n",
    "    title='<b>Geographical Distribution of Locations by Country</b>', \n",
    "    template='plotly_white'\n",
    ")\n",
    "\n",
    "# Update layout to remove the legend\n",
    "fig.update_layout(showlegend=False)\n",
    "\n",
    "# Show the plot\n",
    "fig.show()"
   ]
  },
  {
   "cell_type": "code",
   "execution_count": null,
   "id": "31fa0680-deb2-498c-b2e3-989f75739108",
   "metadata": {},
   "outputs": [],
   "source": [
    "# Set the style and palette\n",
    "sns.set(style='whitegrid', palette='Set2')\n",
    "\n",
    "# Group by 'location_name' and count occurrences to find the top 10 locations\n",
    "top_locations = df['location_name'].value_counts().nlargest(10).index.tolist()\n",
    "\n",
    "# Filter the DataFrame for the top 10 locations\n",
    "df_top_10_locations = df[df['location_name'].isin(top_locations)]\n",
    "\n",
    "# Determine the number of rows and columns for subplots\n",
    "cols = 2  \n",
    "rows = int(np.ceil(len(top_locations) / cols))\n",
    "\n",
    "# Create subplots for the top 10 locations\n",
    "fig, axs = plt.subplots(rows, cols, figsize=(12, 5 * rows))\n",
    "axs = axs.flatten()  # Flatten the axes array for easier indexing\n",
    "\n",
    "# Create a main title\n",
    "fig.suptitle('Strip Plots of Temperature in Celsius for Top 10 Locations', fontsize=16, fontweight='bold')\n",
    "\n",
    "# Create a strip plot for each of the top 10 locations\n",
    "for i, location in enumerate(top_locations):\n",
    "    sns.stripplot(data=df_top_10_locations[df_top_10_locations['location_name'] == location],\n",
    "                  x='country', y='temperature_celsius', ax=axs[i], palette='Set2', jitter=True)\n",
    "    axs[i].set_title(f'Strip Plot of Temperature in Celsius for {location}', fontweight='bold') \n",
    "    axs[i].set_xlabel('Country')\n",
    "    axs[i].set_ylabel('Temperature (°C)')\n",
    "    axs[i].tick_params(axis='x')\n",
    "    axs[i].grid()\n",
    "\n",
    "# Hide any unused subplots if there are fewer than 10 locations\n",
    "for j in range(i + 1, len(axs)):\n",
    "    axs[j].axis('off')\n",
    "\n",
    "# Adjust layout\n",
    "plt.tight_layout(rect=[0, 0, 1, 0.95])  \n",
    "plt.show()"
   ]
  },
  {
   "cell_type": "code",
   "execution_count": null,
   "id": "5ddea7bf-6fd3-42f2-85b1-c1e2edd3805d",
   "metadata": {},
   "outputs": [],
   "source": [
    "# Calculate average humidity and air quality metrics by country\n",
    "humidity_air_quality = df.groupby('country').agg({\n",
    "    'humidity': 'mean',\n",
    "    'air_quality_Ozone': 'mean',\n",
    "    'air_quality_Nitrogen_dioxide': 'mean',\n",
    "    'air_quality_Sulphur_dioxide': 'mean'\n",
    "}).reset_index()\n",
    "\n",
    "# Create a treemap\n",
    "fig = px.treemap(humidity_air_quality,\n",
    "                 path=['country'],\n",
    "                 values='humidity',  \n",
    "                 color='air_quality_Ozone',  \n",
    "                 hover_data=['humidity', 'air_quality_Nitrogen_dioxide', 'air_quality_Sulphur_dioxide'],\n",
    "                 title='<b>Treemap of Average Humidity and Air Quality by Country</b>')  \n",
    "\n",
    "# Show the figure\n",
    "fig.show()"
   ]
  },
  {
   "cell_type": "code",
   "execution_count": null,
   "id": "4d78dd8f-53ae-4b60-a4cf-11428737c322",
   "metadata": {},
   "outputs": [],
   "source": [
    "# Specify the columns to visualize\n",
    "selected_columns = [\n",
    "    'latitude', 'longitude', 'temperature_celsius',\n",
    "    'temperature_fahrenheit', 'pressure_mb', 'pressure_in',\n",
    "    'humidity', 'feels_like_celsius', 'feels_like_fahrenheit', \n",
    "    'air_quality_Ozone'\n",
    "]\n",
    "\n",
    "# Create a figure for the subplots\n",
    "n_cols = 5\n",
    "n_rows = (len(selected_columns) + n_cols - 1) // n_cols  # Calculate number of rows needed\n",
    "fig, axes = plt.subplots(n_rows, n_cols, figsize=(20, 4 * n_rows))\n",
    "axes = axes.flatten()  # Flatten the 2D array of axes to 1D for easy indexing\n",
    "\n",
    "# Get the SET2 color palette\n",
    "set2_palette = sns.color_palette(\"Set2\", n_colors=len(selected_columns))\n",
    "\n",
    "# Loop through the selected columns and create plots\n",
    "for i, col in enumerate(selected_columns):\n",
    "    sns.histplot(df[col], ax=axes[i], bins=30, kde=True, color=set2_palette[i])\n",
    "    axes[i].set_title(col)\n",
    "    axes[i].set_xlabel(col)\n",
    "    axes[i].set_ylabel('Frequency')\n",
    "\n",
    "# Hide any unused subplots\n",
    "for j in range(i + 1, len(axes)):\n",
    "    fig.delaxes(axes[j])\n",
    "\n",
    "# Add the title \n",
    "plt.suptitle('Distribution of Weather Data columns', fontsize=16, fontweight='bold')\n",
    "\n",
    "# Adjust layout\n",
    "plt.tight_layout(rect=[0, 0, 1, 0.95]) \n",
    "plt.show()\n"
   ]
  },
  {
   "cell_type": "code",
   "execution_count": null,
   "id": "bd6cad33-4010-480f-af70-3e6085b3a1ec",
   "metadata": {},
   "outputs": [],
   "source": [
    "# Select numeric columns\n",
    "numeric_columns = df.select_dtypes(include=['number']).columns\n",
    "\n",
    "# Create a boolean mask for outliers\n",
    "outlier_mask = pd.Series(False, index=df.index)\n",
    "\n",
    "# Calculate IQR and identify outliers\n",
    "for column in numeric_columns:\n",
    "    Q1 = df[column].quantile(0.25)\n",
    "    Q3 = df[column].quantile(0.75)\n",
    "    IQR = Q3 - Q1\n",
    "    lower_bound = Q1 - 1.5 * IQR\n",
    "    upper_bound = Q3 + 1.5 * IQR\n",
    "    \n",
    "    # Update the outlier mask\n",
    "    outlier_mask |= (df[column] < lower_bound) | (df[column] > upper_bound)\n",
    "\n",
    "# Create a new DataFrame without outliers\n",
    "df_no_outliers = df[~outlier_mask]\n",
    "\n",
    "# Set up the matplotlib figure\n",
    "num_cols = 5\n",
    "num_rows = (len(numeric_columns) + num_cols - 1) // num_cols\n",
    "\n",
    "plt.figure(figsize=(20, num_rows * 4))\n",
    "\n",
    "# Create boxplots for the DataFrame without outliers\n",
    "for i, column in enumerate(numeric_columns):\n",
    "    Q1 = df_no_outliers[column].quantile(0.25)\n",
    "    Q3 = df_no_outliers[column].quantile(0.75)\n",
    "    IQR = Q3 - Q1\n",
    "    lower_bound = Q1 - 1.5 * IQR\n",
    "    upper_bound = Q3 + 1.5 * IQR\n",
    "    \n",
    "    plt.subplot(num_rows, num_cols, i + 1)\n",
    "    sns.boxplot(y=df_no_outliers[column], palette='Set2')\n",
    "    \n",
    "    # Add lines for lower and upper bounds specific to each column\n",
    "    plt.axhline(y=lower_bound, color='red', linestyle='--', label='Lower Bound')\n",
    "    plt.axhline(y=upper_bound, color='blue', linestyle='--', label='Upper Bound')\n",
    "    \n",
    "    plt.title(column)\n",
    "    plt.xlabel('')\n",
    "    \n",
    "    # Add the legend outside the boxplot area\n",
    "    plt.legend(loc='upper right', bbox_to_anchor=(1.2, 1))\n",
    "\n",
    "plt.tight_layout()\n",
    "plt.show()\n"
   ]
  },
  {
   "cell_type": "code",
   "execution_count": null,
   "id": "8a6b2389-07da-4f6a-9222-de92cb38eecc",
   "metadata": {},
   "outputs": [],
   "source": [
    "# Calculate average temperature by humidity level\n",
    "humidity_temp = df.groupby('humidity')['temperature_celsius'].mean().head()\n",
    "humidity_temp.columns = ['Humidity', 'Average_Temperature_Celsius']\n",
    "\n",
    "print(humidity_temp)"
   ]
  },
  {
   "cell_type": "code",
   "execution_count": null,
   "id": "912d1b1c-b227-4d07-8b14-8da62995193d",
   "metadata": {},
   "outputs": [],
   "source": [
    "# Count locations with UV index greater than 5\n",
    "high_uv_count = df[df['uv_index'] > 10].shape[0]\n",
    "print(f\"Number of locations with UV index above 5: {high_uv_count}\")"
   ]
  },
  {
   "cell_type": "code",
   "execution_count": null,
   "id": "ccac5bd8-f8d7-4857-ade7-02eb874cf80f",
   "metadata": {},
   "outputs": [],
   "source": []
  }
 ],
 "metadata": {
  "kernelspec": {
   "display_name": "Python [conda env:base] *",
   "language": "python",
   "name": "conda-base-py"
  },
  "language_info": {
   "codemirror_mode": {
    "name": "ipython",
    "version": 3
   },
   "file_extension": ".py",
   "mimetype": "text/x-python",
   "name": "python",
   "nbconvert_exporter": "python",
   "pygments_lexer": "ipython3",
   "version": "3.12.4"
  }
 },
 "nbformat": 4,
 "nbformat_minor": 5
}
